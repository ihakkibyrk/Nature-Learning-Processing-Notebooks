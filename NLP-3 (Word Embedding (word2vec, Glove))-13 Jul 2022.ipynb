{
 "cells": [
  {
   "cell_type": "markdown",
   "metadata": {},
   "source": [
    "## Word_embedding"
   ]
  },
  {
   "cell_type": "markdown",
   "metadata": {},
   "source": [
    "## Word2Vec"
   ]
  },
  {
   "cell_type": "code",
   "execution_count": 1,
   "metadata": {},
   "outputs": [],
   "source": [
    "# pip install gensim"
   ]
  },
  {
   "cell_type": "code",
   "execution_count": 2,
   "metadata": {},
   "outputs": [],
   "source": [
    "#import numpy as np\n",
    "from gensim.models import Word2Vec"
   ]
  },
  {
   "cell_type": "code",
   "execution_count": 3,
   "metadata": {},
   "outputs": [],
   "source": [
    "text = open('newspaper.txt', 'r', encoding='utf8')\n",
    "text = text.read()\n",
    "list_sent = text.split('\\n')\n",
    "\n",
    "corpus = []\n",
    "\n",
    "for sent in list_sent:\n",
    "    corpus.append(sent.split())"
   ]
  },
  {
   "cell_type": "code",
   "execution_count": 4,
   "metadata": {},
   "outputs": [
    {
     "data": {
      "text/plain": [
       "'iran devlet televizyonu ülkedeki eyaletin sinde yapılan reformcuları protesto amaçlı yürüyüşlere milyonlarca kişinin katıldığını bildirdi \\ngösterilerde fitnecilere ölüm münafıklara ölüm abd ye ölüm ingiltere ye ölüm sloganları atıldı \\ndini lider ali hamaney ve cumhurbaşkanı mahmud ahmedinejad ı destekleyen iranlılar son olaylarda yeğeni öldürülen mir hüseyin musevi başta olmak üzere muhalefet liderlerini kınadılar \\nmusevi ye ölüm ve idam idam sloganları duyuldu \\nmuhalefet liderleri kaçtı mı aşure günü yaşanan çatışmalarda devlet kaynaklarına göre u terörist olmak üzere kişi ölmüştü \\nden fazla kişinin yaralandığı olaylar sırasında en az kişi tutuklanmıştı \\nöte yandan iran haber ajansı irna muhalif liderler mir hüseyin musevi ve mehdi kerrubi nin başkentten kaçarak ülkenin kuzeyine geçtiğini ileri sürdü ancak muhalefet iddiayı yalanladı \\nhamaney in bir dönem korumalığını yapan ve şu anda fransa da saklandığı söylenen bir kişinin muhalefete verdiği bilgilere göre münzevi yaşamı na rağmen '"
      ]
     },
     "execution_count": 4,
     "metadata": {},
     "output_type": "execute_result"
    }
   ],
   "source": [
    "text[:1000]"
   ]
  },
  {
   "cell_type": "code",
   "execution_count": 5,
   "metadata": {},
   "outputs": [
    {
     "name": "stdout",
     "output_type": "stream",
     "text": [
      "iran devlet televizyonu ülkedeki eyaletin sinde yapılan reformcuları protesto amaçlı yürüyüşlere milyonlarca kişinin katıldığını bildirdi \n",
      "gösterilerde fitnecilere ölüm münafıklara ölüm abd ye ölüm ingiltere ye ölüm sloganları atıldı \n",
      "dini lider ali hamaney ve cumhurbaşkanı mahmud ahmedinejad ı destekleyen iranlılar son olaylarda yeğeni öldürülen mir hüseyin musevi başta olmak üzere muhalefet liderlerini kınadılar \n",
      "musevi ye ölüm ve idam idam sloganları duyuldu \n",
      "muhalefet liderleri kaçtı mı aşure günü yaşanan çatışmalarda devlet kaynaklarına göre u terörist olmak üzere kişi ölmüştü \n",
      "den fazla kişinin yaralandığı olaylar sırasında en az kişi tutuklanmıştı \n",
      "öte yandan iran haber ajansı irna muhalif liderler mir hüseyin musevi ve mehdi kerrubi nin başkentten kaçarak ülkenin kuzeyine geçtiğini ileri sürdü ancak muhalefet iddiayı yalanladı \n",
      "hamaney in bir dönem korumalığını yapan ve şu anda fransa da saklandığı söylenen bir kişinin muhalefete verdiği bilgilere göre münzevi yaşamı na rağmen \n"
     ]
    }
   ],
   "source": [
    "print(text[:1000])"
   ]
  },
  {
   "cell_type": "code",
   "execution_count": 6,
   "metadata": {},
   "outputs": [
    {
     "data": {
      "text/plain": [
       "['iran devlet televizyonu ülkedeki eyaletin sinde yapılan reformcuları protesto amaçlı yürüyüşlere milyonlarca kişinin katıldığını bildirdi ',\n",
       " 'gösterilerde fitnecilere ölüm münafıklara ölüm abd ye ölüm ingiltere ye ölüm sloganları atıldı ',\n",
       " 'dini lider ali hamaney ve cumhurbaşkanı mahmud ahmedinejad ı destekleyen iranlılar son olaylarda yeğeni öldürülen mir hüseyin musevi başta olmak üzere muhalefet liderlerini kınadılar ',\n",
       " 'musevi ye ölüm ve idam idam sloganları duyuldu ',\n",
       " 'muhalefet liderleri kaçtı mı aşure günü yaşanan çatışmalarda devlet kaynaklarına göre u terörist olmak üzere kişi ölmüştü ',\n",
       " 'den fazla kişinin yaralandığı olaylar sırasında en az kişi tutuklanmıştı ',\n",
       " 'öte yandan iran haber ajansı irna muhalif liderler mir hüseyin musevi ve mehdi kerrubi nin başkentten kaçarak ülkenin kuzeyine geçtiğini ileri sürdü ancak muhalefet iddiayı yalanladı ',\n",
       " 'hamaney in bir dönem korumalığını yapan ve şu anda fransa da saklandığı söylenen bir kişinin muhalefete verdiği bilgilere göre münzevi yaşamı na rağmen dini liderin havyara karşı korkunç bir iştahı var ',\n",
       " 'baston ve at meraklısı hamaney aynı zamanda değerli mücevherlerle bezenmiş bastonların ve cins atların koleksiyonunu yapıyor ',\n",
       " 'hamaney in antika bastonlarının sayısı ']"
      ]
     },
     "execution_count": 6,
     "metadata": {},
     "output_type": "execute_result"
    }
   ],
   "source": [
    "list_sent[:10]"
   ]
  },
  {
   "cell_type": "code",
   "execution_count": 7,
   "metadata": {},
   "outputs": [
    {
     "data": {
      "text/plain": [
       "['iran',\n",
       " 'devlet',\n",
       " 'televizyonu',\n",
       " 'ülkedeki',\n",
       " 'eyaletin',\n",
       " 'sinde',\n",
       " 'yapılan',\n",
       " 'reformcuları',\n",
       " 'protesto',\n",
       " 'amaçlı',\n",
       " 'yürüyüşlere',\n",
       " 'milyonlarca',\n",
       " 'kişinin',\n",
       " 'katıldığını',\n",
       " 'bildirdi']"
      ]
     },
     "execution_count": 7,
     "metadata": {},
     "output_type": "execute_result"
    }
   ],
   "source": [
    "list_sent[0].split()"
   ]
  },
  {
   "cell_type": "code",
   "execution_count": 8,
   "metadata": {},
   "outputs": [
    {
     "name": "stdout",
     "output_type": "stream",
     "text": [
      "[['iran', 'devlet', 'televizyonu', 'ülkedeki', 'eyaletin', 'sinde', 'yapılan', 'reformcuları', 'protesto', 'amaçlı', 'yürüyüşlere', 'milyonlarca', 'kişinin', 'katıldığını', 'bildirdi'], ['gösterilerde', 'fitnecilere', 'ölüm', 'münafıklara', 'ölüm', 'abd', 'ye', 'ölüm', 'ingiltere', 'ye', 'ölüm', 'sloganları', 'atıldı'], ['dini', 'lider', 'ali', 'hamaney', 've', 'cumhurbaşkanı', 'mahmud', 'ahmedinejad', 'ı', 'destekleyen', 'iranlılar', 'son', 'olaylarda', 'yeğeni', 'öldürülen', 'mir', 'hüseyin', 'musevi', 'başta', 'olmak', 'üzere', 'muhalefet', 'liderlerini', 'kınadılar'], ['musevi', 'ye', 'ölüm', 've', 'idam', 'idam', 'sloganları', 'duyuldu'], ['muhalefet', 'liderleri', 'kaçtı', 'mı', 'aşure', 'günü', 'yaşanan', 'çatışmalarda', 'devlet', 'kaynaklarına', 'göre', 'u', 'terörist', 'olmak', 'üzere', 'kişi', 'ölmüştü'], ['den', 'fazla', 'kişinin', 'yaralandığı', 'olaylar', 'sırasında', 'en', 'az', 'kişi', 'tutuklanmıştı'], ['öte', 'yandan', 'iran', 'haber', 'ajansı', 'irna', 'muhalif', 'liderler', 'mir', 'hüseyin', 'musevi', 've', 'mehdi', 'kerrubi', 'nin', 'başkentten', 'kaçarak', 'ülkenin', 'kuzeyine', 'geçtiğini', 'ileri', 'sürdü', 'ancak', 'muhalefet', 'iddiayı', 'yalanladı'], ['hamaney', 'in', 'bir', 'dönem', 'korumalığını', 'yapan', 've', 'şu', 'anda', 'fransa', 'da', 'saklandığı', 'söylenen', 'bir', 'kişinin', 'muhalefete', 'verdiği', 'bilgilere', 'göre', 'münzevi', 'yaşamı', 'na', 'rağmen', 'dini', 'liderin', 'havyara', 'karşı', 'korkunç', 'bir', 'iştahı', 'var'], ['baston', 've', 'at', 'meraklısı', 'hamaney', 'aynı', 'zamanda', 'değerli', 'mücevherlerle', 'bezenmiş', 'bastonların', 've', 'cins', 'atların', 'koleksiyonunu', 'yapıyor'], ['hamaney', 'in', 'antika', 'bastonlarının', 'sayısı']]\n"
     ]
    }
   ],
   "source": [
    "print(corpus[:10])"
   ]
  },
  {
   "cell_type": "code",
   "execution_count": null,
   "metadata": {},
   "outputs": [],
   "source": []
  },
  {
   "cell_type": "code",
   "execution_count": 9,
   "metadata": {},
   "outputs": [],
   "source": [
    "model = Word2Vec(corpus, size=100, window=5, min_count=5, sg=1)"
   ]
  },
  {
   "cell_type": "code",
   "execution_count": 10,
   "metadata": {},
   "outputs": [
    {
     "data": {
      "text/plain": [
       "array([ 2.49320507e-01, -1.35882139e-01,  6.98923394e-02, -7.86890760e-02,\n",
       "        9.27704453e-01, -4.82603675e-03, -2.42802091e-02, -6.14666343e-02,\n",
       "        1.19301200e-01,  3.17561954e-01,  6.54131055e-01, -6.84737206e-01,\n",
       "        3.68291438e-01, -2.01216996e-01, -3.24941665e-01,  1.01927251e-01,\n",
       "       -1.63741544e-01,  2.57052332e-01, -7.63880536e-02, -3.02588552e-01,\n",
       "        2.96328694e-01, -6.92458689e-01, -6.13929272e-01, -4.79472848e-03,\n",
       "        4.10980552e-01, -4.79558498e-01, -5.21633983e-01, -1.17068604e-01,\n",
       "       -5.37129827e-02,  2.23925952e-02, -2.47015320e-02, -2.32595906e-01,\n",
       "       -6.23448968e-01,  4.29174930e-01,  3.08378153e-02,  4.90225077e-01,\n",
       "       -4.18268703e-02, -1.14612795e-01,  9.33742076e-02, -4.45895921e-03,\n",
       "       -6.71567500e-01,  1.43712759e-02,  2.29545668e-01, -5.85335195e-01,\n",
       "        5.48625886e-01,  3.53192948e-02,  3.23362947e-01,  3.81265342e-01,\n",
       "       -7.28942759e-05, -3.07462662e-01, -8.03303301e-01, -2.54757367e-02,\n",
       "       -6.98522627e-01,  3.36750895e-01, -4.99142073e-02, -2.09816352e-01,\n",
       "       -3.63150418e-01,  3.81856352e-01,  4.57945049e-01,  2.15617850e-01,\n",
       "        1.81535445e-02, -1.64239518e-02,  9.22612250e-02, -1.89759240e-01,\n",
       "       -5.39627224e-02,  6.25876710e-02,  1.03114292e-01,  4.43333745e-01,\n",
       "       -4.66583222e-01, -3.42807710e-01,  8.18974525e-02,  3.02449733e-01,\n",
       "        2.56411016e-01,  6.76685870e-01,  1.82384104e-01,  5.39902508e-01,\n",
       "       -2.00161740e-01, -1.15712166e-01, -2.50088751e-01, -1.06169514e-01,\n",
       "       -2.41882559e-02,  4.13064122e-01, -4.18842793e-01,  3.50341290e-01,\n",
       "        5.41156769e-01,  8.45903456e-02,  1.91017687e-01,  9.14237723e-02,\n",
       "        1.77177742e-01,  2.79249310e-01, -1.92409754e-01, -2.58184314e-01,\n",
       "        4.60055143e-01,  1.57286674e-01, -2.44165793e-01,  1.88177288e-01,\n",
       "        9.89253297e-02, -1.73833426e-02, -1.42282203e-01, -4.24997509e-02],\n",
       "      dtype=float32)"
      ]
     },
     "execution_count": 10,
     "metadata": {},
     "output_type": "execute_result"
    }
   ],
   "source": [
    "model.wv['ankara']"
   ]
  },
  {
   "cell_type": "code",
   "execution_count": 11,
   "metadata": {},
   "outputs": [
    {
     "data": {
      "text/plain": [
       "[('okuldaki', 0.751787543296814),\n",
       " ('öğretmeni', 0.7271819114685059),\n",
       " ('öğretmenin', 0.7216291427612305),\n",
       " ('öğrenciyle', 0.7185937166213989),\n",
       " ('öğrencisinin', 0.7152348756790161),\n",
       " ('öğrenci', 0.7127184867858887),\n",
       " ('erkekten', 0.7095169425010681),\n",
       " ('öğrenciden', 0.7086600065231323),\n",
       " ('öğrenciye', 0.7060580253601074),\n",
       " ('lise', 0.7039523124694824)]"
      ]
     },
     "execution_count": 11,
     "metadata": {},
     "output_type": "execute_result"
    }
   ],
   "source": [
    "model.wv.most_similar('öğretmen')"
   ]
  },
  {
   "cell_type": "code",
   "execution_count": 12,
   "metadata": {},
   "outputs": [
    {
     "data": {
      "text/plain": [
       "[('çizgileri', 0.713120698928833),\n",
       " ('gömlekliler', 0.6466614007949829),\n",
       " ('bültenle', 0.6324368715286255),\n",
       " ('ışıkta', 0.6293827891349792),\n",
       " ('halıda', 0.6265197396278381),\n",
       " ('gömlekli', 0.6187587380409241),\n",
       " ('turuncu', 0.6156635284423828),\n",
       " ('renkte', 0.6038623452186584),\n",
       " ('siyah', 0.6020450592041016),\n",
       " ('halı', 0.5999343395233154)]"
      ]
     },
     "execution_count": 12,
     "metadata": {},
     "output_type": "execute_result"
    }
   ],
   "source": [
    "model.wv.most_similar('kırmızı')"
   ]
  },
  {
   "cell_type": "code",
   "execution_count": 13,
   "metadata": {},
   "outputs": [
    {
     "data": {
      "text/plain": [
       "[('evine', 0.8207724690437317),\n",
       " ('dükkana', 0.7658360004425049),\n",
       " ('apartmana', 0.7438116073608398),\n",
       " ('mağazaya', 0.7377535104751587),\n",
       " ('arabaya', 0.7257040739059448),\n",
       " ('odasına', 0.7207365036010742),\n",
       " ('arabasına', 0.712044894695282),\n",
       " ('sinemaya', 0.7061275839805603),\n",
       " ('restorana', 0.6977273225784302),\n",
       " ('kiliseye', 0.6972301006317139)]"
      ]
     },
     "execution_count": 13,
     "metadata": {},
     "output_type": "execute_result"
    }
   ],
   "source": [
    "model.wv.most_similar('eve')"
   ]
  },
  {
   "cell_type": "code",
   "execution_count": 14,
   "metadata": {},
   "outputs": [
    {
     "data": {
      "text/plain": [
       "[('marmara', 0.9005776643753052),\n",
       " ('gemisine', 0.6508665084838867),\n",
       " ('baskınıyla', 0.6481854915618896),\n",
       " ('baskınına', 0.6265530586242676),\n",
       " ('dökme', 0.6252431273460388),\n",
       " ('filo', 0.6224315166473389),\n",
       " ('baskınının', 0.6206570863723755),\n",
       " ('komandolarının', 0.618060827255249),\n",
       " ('saldırısındaki', 0.6158018708229065),\n",
       " ('minute', 0.6127284169197083)]"
      ]
     },
     "execution_count": 14,
     "metadata": {},
     "output_type": "execute_result"
    }
   ],
   "source": [
    "model.wv.most_similar('mavi')"
   ]
  },
  {
   "cell_type": "code",
   "execution_count": 16,
   "metadata": {},
   "outputs": [
    {
     "data": {
      "text/plain": [
       "[('dersin', 0.6625062823295593)]"
      ]
     },
     "execution_count": 16,
     "metadata": {},
     "output_type": "execute_result"
    }
   ],
   "source": [
    "model.wv.most_similar(positive=['öğrenme', 'doktor'], negative=['tedavi'], topn=1)"
   ]
  },
  {
   "cell_type": "code",
   "execution_count": 17,
   "metadata": {},
   "outputs": [
    {
     "data": {
      "text/plain": [
       "[('hollanda', 0.6286691427230835)]"
      ]
     },
     "execution_count": 17,
     "metadata": {},
     "output_type": "execute_result"
    }
   ],
   "source": [
    "model.wv.most_similar(positive=['ankara', 'belçika'], negative=['brüksel'], topn=1)"
   ]
  },
  {
   "cell_type": "code",
   "execution_count": 18,
   "metadata": {},
   "outputs": [],
   "source": [
    "model.save(\"word2vec.model\")"
   ]
  },
  {
   "cell_type": "code",
   "execution_count": 19,
   "metadata": {},
   "outputs": [],
   "source": [
    "model = Word2Vec.load(\"word2vec.model\")"
   ]
  },
  {
   "cell_type": "markdown",
   "metadata": {},
   "source": [
    "## Glove"
   ]
  },
  {
   "cell_type": "code",
   "execution_count": 20,
   "metadata": {},
   "outputs": [],
   "source": [
    "from gensim.scripts.glove2word2vec import glove2word2vec\n",
    "from gensim.models import KeyedVectors"
   ]
  },
  {
   "cell_type": "code",
   "execution_count": 21,
   "metadata": {},
   "outputs": [
    {
     "data": {
      "text/plain": [
       "(400000, 100)"
      ]
     },
     "execution_count": 21,
     "metadata": {},
     "output_type": "execute_result"
    }
   ],
   "source": [
    "glove_model = 'glove.6B.100d.txt'\n",
    "word2vec = 'glove.6B.100d.glove'\n",
    "glove2word2vec(glove_model, word2vec)"
   ]
  },
  {
   "cell_type": "code",
   "execution_count": 22,
   "metadata": {},
   "outputs": [],
   "source": [
    "#glove2word2vec('glove.6B.100d.txt', 'glove.6B.100d.glove')"
   ]
  },
  {
   "cell_type": "code",
   "execution_count": 23,
   "metadata": {},
   "outputs": [],
   "source": [
    "model2 = KeyedVectors.load_word2vec_format(word2vec) #'glove.6B.100d.glove'"
   ]
  },
  {
   "cell_type": "code",
   "execution_count": 24,
   "metadata": {},
   "outputs": [
    {
     "data": {
      "text/plain": [
       "array([ 0.44374 ,  0.67311 , -0.51096 ,  0.20882 , -0.10662 ,  0.55098 ,\n",
       "       -0.035593,  0.25126 , -0.32789 ,  1.0762  , -0.49637 , -0.4298  ,\n",
       "        0.36764 ,  0.57894 , -0.25027 , -0.41021 ,  0.086998, -0.16843 ,\n",
       "       -0.85764 ,  1.0404  , -1.0314  ,  0.095147,  0.30729 ,  0.12348 ,\n",
       "        0.22745 , -0.52157 , -0.72478 , -1.0843  ,  0.035966,  0.62985 ,\n",
       "       -1.0991  ,  0.67161 ,  0.33797 ,  0.14551 , -0.90049 , -0.064415,\n",
       "       -0.75247 ,  0.21741 ,  0.51594 , -0.46291 , -0.77598 ,  0.40705 ,\n",
       "        0.1889  , -0.43402 ,  0.23202 , -0.081453, -0.3882  , -0.34444 ,\n",
       "        0.080225, -0.28274 , -0.38869 , -0.58152 , -0.25558 ,  1.0027  ,\n",
       "       -0.11114 , -1.5402  , -0.16761 , -0.26558 ,  0.9325  ,  0.069397,\n",
       "        0.96618 ,  0.15449 , -0.22905 , -0.1761  ,  0.13225 , -0.55741 ,\n",
       "        0.9234  , -0.04845 ,  0.50202 ,  1.0144  , -0.1256  ,  0.30486 ,\n",
       "        0.090808,  0.17642 , -0.23146 ,  0.68386 ,  0.37269 , -0.37316 ,\n",
       "       -0.025728, -1.0279  , -0.33142 ,  0.036028, -0.24925 , -1.4405  ,\n",
       "       -1.6267  ,  0.082284, -0.080153, -0.50802 ,  0.031885, -0.60546 ,\n",
       "        0.2908  ,  0.036842,  0.55328 ,  0.66784 , -0.42574 ,  0.53331 ,\n",
       "        0.053644, -0.66522 , -0.10012 , -0.17729 ], dtype=float32)"
      ]
     },
     "execution_count": 24,
     "metadata": {},
     "output_type": "execute_result"
    }
   ],
   "source": [
    "model2['teacher']"
   ]
  },
  {
   "cell_type": "code",
   "execution_count": 25,
   "metadata": {},
   "outputs": [
    {
     "data": {
      "text/plain": [
       "[('turkey', 0.7512096762657166),\n",
       " ('istanbul', 0.6787630915641785),\n",
       " ('turkish', 0.6690374612808228),\n",
       " ('damascus', 0.6372509002685547),\n",
       " ('tbilisi', 0.6322182416915894),\n",
       " ('erdogan', 0.6258037686347961),\n",
       " ('moscow', 0.6217041015625),\n",
       " ('brussels', 0.6181437969207764),\n",
       " ('skopje', 0.6164302825927734),\n",
       " ('cyprus', 0.606403112411499)]"
      ]
     },
     "execution_count": 25,
     "metadata": {},
     "output_type": "execute_result"
    }
   ],
   "source": [
    "model2.most_similar('ankara')"
   ]
  },
  {
   "cell_type": "code",
   "execution_count": 26,
   "metadata": {},
   "outputs": [
    {
     "data": {
      "text/plain": [
       "[('student', 0.8083398938179016),\n",
       " ('school', 0.75455641746521),\n",
       " ('teaching', 0.7521439790725708),\n",
       " ('taught', 0.7411845922470093),\n",
       " ('teachers', 0.7291542887687683),\n",
       " ('graduate', 0.7134960293769836),\n",
       " ('instructor', 0.7077120542526245),\n",
       " ('students', 0.6828974485397339),\n",
       " ('teaches', 0.6552315950393677),\n",
       " ('education', 0.6528990268707275)]"
      ]
     },
     "execution_count": 26,
     "metadata": {},
     "output_type": "execute_result"
    }
   ],
   "source": [
    "model2.most_similar('teacher')"
   ]
  },
  {
   "cell_type": "raw",
   "metadata": {},
   "source": [
    "BERT models\n",
    "\n",
    "teacher    \n",
    "student    0.9222786\n",
    "school     0.9295052\n",
    "teaching   0.9878557\n",
    "taught     0.94827914\n",
    "teachers   0.96148443\n",
    "graduate   0.9457023\n",
    "instructor 0.84273684\n",
    "students   0.98318183\n",
    "teaches    0.9890878\n",
    "education  0.94292575"
   ]
  },
  {
   "cell_type": "code",
   "execution_count": 27,
   "metadata": {},
   "outputs": [
    {
     "data": {
      "text/plain": [
       "[('physician', 0.7673239707946777),\n",
       " ('nurse', 0.75215083360672),\n",
       " ('dr.', 0.7175193428993225),\n",
       " ('doctors', 0.7080885171890259),\n",
       " ('patient', 0.7074184417724609),\n",
       " ('medical', 0.6995993256568909),\n",
       " ('surgeon', 0.6905338764190674),\n",
       " ('hospital', 0.690092921257019),\n",
       " ('psychiatrist', 0.658909797668457),\n",
       " ('dentist', 0.6447421312332153)]"
      ]
     },
     "execution_count": 27,
     "metadata": {},
     "output_type": "execute_result"
    }
   ],
   "source": [
    "model2.most_similar('doctor')"
   ]
  },
  {
   "cell_type": "raw",
   "metadata": {},
   "source": [
    "BERT models\n",
    "\n",
    "doctor       \n",
    "physician    0.98596996\n",
    "nurse        0.75534743\n",
    "dr.          0.88797665\n",
    "doctors      0.9910818\n",
    "patient      0.98758376\n",
    "medical      0.97713757\n",
    "surgeon      0.95054865\n",
    "hospital     0.82682276\n",
    "psychiatrist 0.91220266"
   ]
  },
  {
   "cell_type": "code",
   "execution_count": 28,
   "metadata": {},
   "outputs": [
    {
     "data": {
      "text/plain": [
       "[('daughter', 0.8917792439460754)]"
      ]
     },
     "execution_count": 28,
     "metadata": {},
     "output_type": "execute_result"
    }
   ],
   "source": [
    "model2.most_similar(positive=['woman', 'brother'], negative=['man'], topn=1)"
   ]
  },
  {
   "cell_type": "code",
   "execution_count": 29,
   "metadata": {},
   "outputs": [
    {
     "data": {
      "text/plain": [
       "[('mother', 0.9024620056152344)]"
      ]
     },
     "execution_count": 29,
     "metadata": {},
     "output_type": "execute_result"
    }
   ],
   "source": [
    "model2.most_similar(positive=['woman', 'father'], negative=['man'], topn=1)"
   ]
  },
  {
   "cell_type": "code",
   "execution_count": 30,
   "metadata": {},
   "outputs": [
    {
     "data": {
      "text/plain": [
       "[('aunt', 0.8368030786514282)]"
      ]
     },
     "execution_count": 30,
     "metadata": {},
     "output_type": "execute_result"
    }
   ],
   "source": [
    "model2.most_similar(positive=['woman', 'uncle'], negative=['man'], topn=1)"
   ]
  },
  {
   "cell_type": "code",
   "execution_count": 31,
   "metadata": {},
   "outputs": [
    {
     "data": {
      "text/plain": [
       "[('turkey', 0.8147119283676147)]"
      ]
     },
     "execution_count": 31,
     "metadata": {},
     "output_type": "execute_result"
    }
   ],
   "source": [
    "model2.most_similar(positive=['ankara', 'germany'], negative=['berlin'], topn=1)"
   ]
  },
  {
   "cell_type": "code",
   "execution_count": 32,
   "metadata": {},
   "outputs": [
    {
     "data": {
      "text/plain": [
       "[('teacher', 0.7610154151916504)]"
      ]
     },
     "execution_count": 32,
     "metadata": {},
     "output_type": "execute_result"
    }
   ],
   "source": [
    "model2.most_similar(positive=['teach', 'doctor'], negative=['treat'], topn=1)"
   ]
  },
  {
   "cell_type": "code",
   "execution_count": 33,
   "metadata": {},
   "outputs": [
    {
     "data": {
      "text/plain": [
       "[('queen', 0.7698541283607483)]"
      ]
     },
     "execution_count": 33,
     "metadata": {},
     "output_type": "execute_result"
    }
   ],
   "source": [
    "model2.most_similar(positive=['woman', 'king'], negative=['man'], topn=1)"
   ]
  },
  {
   "cell_type": "code",
   "execution_count": 34,
   "metadata": {},
   "outputs": [
    {
     "data": {
      "text/plain": [
       "[('lover', 0.7032662630081177)]"
      ]
     },
     "execution_count": 34,
     "metadata": {},
     "output_type": "execute_result"
    }
   ],
   "source": [
    "model2.most_similar(positive=['love', 'jealous'], negative=['hate'], topn=1)"
   ]
  },
  {
   "cell_type": "code",
   "execution_count": null,
   "metadata": {},
   "outputs": [],
   "source": []
  }
 ],
 "metadata": {
  "kernelspec": {
   "display_name": "Python 3.9.1 64-bit",
   "language": "python",
   "name": "python3"
  },
  "language_info": {
   "codemirror_mode": {
    "name": "ipython",
    "version": 3
   },
   "file_extension": ".py",
   "mimetype": "text/x-python",
   "name": "python",
   "nbconvert_exporter": "python",
   "pygments_lexer": "ipython3",
   "version": "3.9.1"
  },
  "vscode": {
   "interpreter": {
    "hash": "376b014e33adc11ea6a08e651f7f835750e4b57704f45419011e59609650410d"
   }
  }
 },
 "nbformat": 4,
 "nbformat_minor": 2
}
